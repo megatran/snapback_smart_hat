{
 "cells": [
  {
   "cell_type": "markdown",
   "metadata": {},
   "source": [
    "# Snap Back Smart Hat\n",
    "\n",
    "The snap back is a snapback that will snap back your happy moments.\n",
    "\n",
    "### Team Members\n",
    "insert names\n"
   ]
  },
  {
   "cell_type": "markdown",
   "metadata": {},
   "source": [
    "## How it works\n",
    "\n",
    "To find your happy moment the snap back uses the snappy smile detection \n",
    "technology to pick the perfect moment to snapshot. It records your happy moment, then it uploads your happy moment to the cloud. We have a website that allows you look back on your memories.\n",
    "\n",
    "![/img/SnapBack.jpg](/img/SnapBack.jpg)"
   ]
  },
  {
   "cell_type": "markdown",
   "metadata": {},
   "source": [
    "# Hardware Setup\n",
    "\n",
    "To accomodate for the active lifestyle of our memory makers our hardware has been designed to be portable. To make this possible we had to make some hardware modifications, mostly to accomadate for a chordless device\n"
   ]
  },
  {
   "cell_type": "markdown",
   "metadata": {},
   "source": [
    "## Battery Pack\n",
    "To power the board on the go a power block was repurposed to connect the board to a 9V power source. In this case the power source is three 9V batteries connected in parralel with electrical and duct tape./n"
    "![/img/BatteryPack.jpg](/img/BatteryPack.jpg)"
   ]
  },
  {
   "cell_type": "markdown",
   "metadata": {},
   "source": [
    "## Peripherals\n",
    "
    "![/img/Periferals.jpg](/img/Periferals.jpg)"
   ]
  },
  {
   "cell_type": "markdown",
   "metadata": {},
   "source": [
    "![/img/Arduino Shield.jpg](/img/Arduino Shield.jpg)"
   ]
  },
  {
   "cell_type": "markdown",
   "metadata": {},
   "source": [
    "![/img/ProtectiveCase.jpg](/img/ProtectiveCase.jpg)"
   ]
  },
  {
   "cell_type": "code",
   "execution_count": null,
   "metadata": {},
   "outputs": [],
   "source": []
  }
 ],
 "metadata": {
  "kernelspec": {
   "display_name": "Python 3",
   "language": "python",
   "name": "python3"
  },
  "language_info": {
   "codemirror_mode": {
    "name": "ipython",
    "version": 3
   },
   "file_extension": ".py",
   "mimetype": "text/x-python",
   "name": "python",
   "nbconvert_exporter": "python",
   "pygments_lexer": "ipython3",
   "version": "3.6.0"
  }
 },
 "nbformat": 4,
 "nbformat_minor": 2
}
