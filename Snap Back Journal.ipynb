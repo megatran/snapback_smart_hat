{
 "cells": [
  {
   "cell_type": "markdown",
   "metadata": {},
   "source": [
    "# Snap Back Smart Hat\n",
    "\n",
    "The snap back is a snapback that will snap back your happy moments.\n",
    "\n",
    "<img src=\"img/noun_269950_cc copy.png\"/>\n",
    "\n",
    "### Team Members\n",
    "##### **Billy Brickner**\n",
    "##### **Nhan Tran**\n",
    "##### **Huan Wang**\n",
    "##### **Tyler Quast**\n",
    "\n"
   ]
  },
  {
   "cell_type": "markdown",
   "metadata": {},
   "source": [
    "## How it works\n",
    "\n",
    "To find your happy moment the snap back uses the snappy smile detection \n",
    "technology to pick the perfect moment to snapshot. It records your happy moment, then it uploads your happy moment to the cloud. We have a website that allows you look back on your memories.\n",
    "\n",
    "<img src=\"img/SnapBack.jpg\">"
   ]
  },
  {
   "cell_type": "markdown",
   "metadata": {},
   "source": [
    "# Hardware Setup\n",
    "\n",
    "Our hardware has been designed to be designed to be portable to accomodate for the active lifestyle of our memory makers . To make this possible we made some hardware modifications to accomadate for a chordless device.\n"
   ]
  },
  {
   "cell_type": "markdown",
   "metadata": {},
   "source": [
    "## Battery Pack\n",
    "\n",
    "For power on the go, a power block was repurposed to connect the board to a 9V power source. In this case the power source is three 9V batteries connected in parralel with electrical tape.\n",
    "\n",
    "\n",
    "<img src=\"img/BatteryPack.jpg\">"
   ]
  },
  {
   "cell_type": "markdown",
   "metadata": {},
   "source": [
    "## Peripherals\n",
    "\n",
    "The peripherals that were used were from left to right:\n",
    "**Arduino Sheild** - For powering the periferals\n",
    "**USB Webcam** - For capturing memories\n",
    "**USB Wifi** - A Wifi Adapter for uploading memories to the cloud.\n",
    "**USB Splitter** - A Device for allowing multiple inputs into the board\n",
    "\n",
    "\n",
    "<img src=\"img/Periferals.jpg\">"
   ]
  },
  {
   "cell_type": "markdown",
   "metadata": {},
   "source": [
    "## Arduino Shield\n",
    "\n",
    "The ardunio sheild was modified to provide power to the peripherals by soldering the usb splitter power wire to the 5V pin on the board.  \n",
    "\n",
    "<img src ='img/ArduinoShield.jpg' />"
   ]
  },
  {
   "cell_type": "markdown",
   "metadata": {},
   "source": [
    "## Protective Case\n",
    "\n",
    "This protective case hold the components together in a compact and discrete manner while you \n",
    "\n",
    "<img src=\"img/ProtectiveCase.jpg\" />"
   ]
  },
  {
   "cell_type": "code",
   "execution_count": null,
   "metadata": {
    "collapsed": true
   },
   "outputs": [],
   "source": []
  }
 ],
 "metadata": {
  "kernelspec": {
   "display_name": "Python 3",
   "language": "python",
   "name": "python3"
  },
  "language_info": {
   "codemirror_mode": {
    "name": "ipython",
    "version": 3
   },
   "file_extension": ".py",
   "mimetype": "text/x-python",
   "name": "python",
   "nbconvert_exporter": "python",
   "pygments_lexer": "ipython3",
   "version": "3.5.2"
  }
 },
 "nbformat": 4,
 "nbformat_minor": 2
}

